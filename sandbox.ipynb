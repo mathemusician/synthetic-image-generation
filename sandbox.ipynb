{
 "cells": [
  {
   "cell_type": "code",
   "execution_count": 535,
   "metadata": {},
   "outputs": [],
   "source": [
    "# %load batch_data_generator.py\n",
    "'''\n",
    "The purpose of this file is to use Python to make the images to train AI models with.\n",
    "\n",
    "Dependencies: python 3.6.2, numpy, matplotlib, pillow\n",
    "\n",
    "Python is a bit more accessible than Matlab; therefore, this file will be better for\n",
    "making training images in the long run.\n",
    "'''\n",
    "\n",
    "\n",
    "from PIL import Image, ImageFont, ImageDraw\n",
    "import matplotlib.pyplot as plt\n",
    "from os.path import isfile, join\n",
    "from os import listdir\n",
    "import os\n",
    "from random import randint\n",
    "import numpy as np\n",
    "\n",
    "%matplotlib inline\n",
    "\n",
    "# load backgrounds and shapes\n",
    "cwd = os.getcwd()\n",
    "backgrounds_path = join(cwd, 'backgrounds')\n",
    "backgrounds = [f for f in listdir(backgrounds_path) if isfile(join(backgrounds_path, f))]\n",
    "backgrounds_raw = []\n",
    "for files in backgrounds:\n",
    "    im = Image.open(join(backgrounds_path,files))\n",
    "    im = im.convert('RGB')\n",
    "    im = np.asarray(im, dtype=np.uint8)\n",
    "    im.setflags(write=1) # make image writable\n",
    "    backgrounds_raw.append(im)\n",
    "\n",
    "shapes_path = join(cwd, 'assets', 'shape_templates')\n",
    "shapes = [f for f in listdir(shapes_path) if isfile(join(shapes_path, f))]\n",
    "shapes_raw = []\n",
    "for files in shapes:\n",
    "    im = Image.open(join(shapes_path,files))\n",
    "    im = im.convert('L') # make it boolean\n",
    "    im = np.asarray(im)\n",
    "    shapes_raw.append(im)\n",
    "\n",
    "\n",
    "alphanumeric_vector = ['A', 'B', 'C', 'D', 'E', 'F', \\\n",
    "                       'G', 'H', 'I', 'J', 'K', 'L', \\\n",
    "                       'M', 'N', 'O', 'P', 'Q', 'R', \\\n",
    "                       'S', 'T', 'U', 'V', 'W', 'X', \\\n",
    "                       'Y', 'Z', '1', '2', '3', '4', \\\n",
    "                       '5', '6', '7', '8', '9']\n",
    "\n",
    "\n",
    "# choose random alphanumeric and background\n",
    "letter = alphanumeric_vector[randint(0,len(alphanumeric_vector)-1)]\n",
    "background = backgrounds_raw[randint(0,len(backgrounds)-1)]\n",
    "shape_choice = randint(0,len(shapes)-1)\n",
    "shape = shapes_raw[shape_choice]\n",
    "\n",
    "# choose random color\n",
    "color_of_background = np.array([randint(0,255),randint(0,255),randint(0,255)])\n",
    "color_of_letter =     np.array([randint(0,255),randint(0,255),randint(0,255)])\n",
    "color_difference = np.sqrt(np.sum(np.square(color_of_background-color_of_letter)))\n",
    "# make sure the color difference is greater than a threshold\n",
    "while color_difference < 12:\n",
    "    color_of_letter = np.array([randint(0,255),randint(0,255),randint(0,255)])\n",
    "    color_difference = np.sqrt(np.sum(np.square(color_of_background-color_of_letter)))\n",
    "    \n",
    "    \n",
    "# draw random shape to a random background\n",
    "x_coor, y_coor = np.where(shape==False)\n",
    "x_max = background.shape[0]-1 - shape.shape[0]-1\n",
    "y_max = background.shape[1]-1 - shape.shape[1]-1\n",
    "change_x = randint(0, x_max)\n",
    "change_y = randint(0, y_max)\n",
    "x_tr = x_coor + change_x\n",
    "y_tr = y_coor + change_y\n",
    "background_mask = (x_tr, y_tr)\n",
    "background[background_mask] = color_of_background\n",
    "\n",
    "\n",
    "# draw letter on picture\n",
    "im = Image.fromarray(background)\n",
    "draw = ImageDraw.Draw(im)\n",
    "font_path = join(cwd, 'fonts', 'Arial.ttf')\n",
    "font_size = 26\n",
    "font = ImageFont.truetype(font_path, font_size)\n",
    "# change color to rgba\n",
    "rgba_color = tuple(color_of_letter.tolist() + [0])\n",
    "draw.text((12+change_y, 8+change_x), letter, font=font, fill=rgba_color)\n",
    "\n",
    "\n",
    "# create jpeg\n",
    "im.save(join(cwd, \"test_images\", \"new_picture.jpeg\"),'jpeg')\n",
    "\n",
    "# create xml file\n",
    "folder = 'test_images'\n",
    "filename = 'new_picture.jpeg'\n",
    "path = join(cwd, folder)\n",
    "height = 40 # this is something that's known\n",
    "width = 40\n",
    "depth = 3\n",
    "xmin = change_y      # I'm not sure why it works when it's switched\n",
    "xmax = change_y + 40 # but it does...\n",
    "ymin = change_x\n",
    "ymax = change_x + 40\n",
    "newline = '\\n'\n",
    "xml_string = [  '<annotation verified=\"yes\">\\n', \n",
    "                '\\t<folder>', folder, '</folder>\\n',\n",
    "                '\\t<filename>', filename, '</filename>\\n',\n",
    "                '\\t<path>', path, '</path>\\n',\n",
    "                '\\t<source>\\n\\t\\t<database>Unknown</database>\\n\\t</source>\\n',\n",
    "                '\\t<size>', newline,\n",
    "                '\\t\\t<width>', str(width), '</width>', newline,\n",
    "                '\\t\\t<height>', str(height), '</height>', newline,\n",
    "                '\\t\\t<depth>', str(depth), '</depth>', newline,\n",
    "                '\\t</size>\\n',\n",
    "                '\\t<segmented>0</segmented>\\n',\n",
    "                '\\t<object>', newline,\n",
    "                '\\t\\t<name>', shapes[shape_choice][:-4], '</name>', newline,\n",
    "                '\\t\\t<pose>Unspecified</pose>', newline,\n",
    "                '\\t\\t<truncated>0</truncated>', newline,\n",
    "                '\\t\\t<difficult>0</difficult>', newline,\n",
    "                '\\t\\t<bndbox>', newline,\n",
    "                '\\t\\t\\t<xmin>', str(xmin), '</xmin>', newline,\n",
    "                '\\t\\t\\t<ymin>', str(ymin), '</ymin>', newline,\n",
    "                '\\t\\t\\t<xmax>', str(xmax), '</xmax>', newline,\n",
    "                '\\t\\t\\t<ymax>', str(ymax), '</ymax>', newline,\n",
    "                '\\t\\t</bndbox>', newline,\n",
    "                '\\t</object>\\n',\n",
    "                '</annotation>\\n']\n",
    "xml_name ='new_picture.xml'\n",
    "xml_path = join(folder, xml_name)\n",
    "file_object = open(xml_path, 'w')\n",
    "file_object.write(''.join(xml_string))\n",
    "file_object.close()\n",
    "\n"
   ]
  },
  {
   "cell_type": "code",
   "execution_count": 532,
   "metadata": {},
   "outputs": [
    {
     "data": {
      "text/plain": [
       "['trapezoid.png',\n",
       " 'hexagon.png',\n",
       " 'heptagon.png',\n",
       " 'rectangle.png',\n",
       " 'circle.png',\n",
       " 'triangle.png',\n",
       " 'pentagon.png',\n",
       " 'cross.png',\n",
       " 'octagon.png',\n",
       " 'star.png',\n",
       " 'quarterCircle.png',\n",
       " 'square.png',\n",
       " 'semiCircle.png']"
      ]
     },
     "execution_count": 532,
     "metadata": {},
     "output_type": "execute_result"
    }
   ],
   "source": [
    "shapes"
   ]
  },
  {
   "cell_type": "code",
   "execution_count": 516,
   "metadata": {},
   "outputs": [
    {
     "data": {
      "image/png": "[encoded data removed]",
      "text/plain": [
       "<PIL.Image.Image image mode=L size=40x40 at 0x11616CC18>"
      ]
     },
     "execution_count": 516,
     "metadata": {},
     "output_type": "execute_result"
    }
   ],
   "source": [
    "im = Image.fromarray(shape)\n",
    "im"
   ]
  },
  {
   "cell_type": "code",
   "execution_count": 517,
   "metadata": {},
   "outputs": [],
   "source": [
    "x_max = background.shape[0]\n",
    "y_max = background.shape[1]\n",
    "change_x = randint(0, x_max)\n",
    "change_y = randint(0, y_max)\n",
    "x_tr = x_coor + change_x\n",
    "y_tr = y_coor + change_y"
   ]
  },
  {
   "cell_type": "code",
   "execution_count": 390,
   "metadata": {},
   "outputs": [],
   "source": [
    "A = np.array([1,1,1,1])\n",
    "B = np.array([0,0,0,0,0,0])\n",
    "mask = [1,0,0,1]\n",
    "mask = np.where(np.array(mask)>0)\n",
    "new_mask = (np.array([mask[0][0]+1, mask[0][1]+1]))"
   ]
  },
  {
   "cell_type": "code",
   "execution_count": 391,
   "metadata": {},
   "outputs": [],
   "source": [
    "A[mask] = B[new_mask]  # B goes to A"
   ]
  },
  {
   "cell_type": "code",
   "execution_count": 408,
   "metadata": {},
   "outputs": [
    {
     "data": {
      "text/plain": [
       "'8'"
      ]
     },
     "execution_count": 408,
     "metadata": {},
     "output_type": "execute_result"
    }
   ],
   "source": [
    "letter\n"
   ]
  },
  {
   "cell_type": "code",
   "execution_count": null,
   "metadata": {},
   "outputs": [],
   "source": []
  }
 ],
 "metadata": {
  "kernelspec": {
   "display_name": "Python 3",
   "language": "python",
   "name": "python3"
  },
  "language_info": {
   "codemirror_mode": {
    "name": "ipython",
    "version": 3
   },
   "file_extension": ".py",
   "mimetype": "text/x-python",
   "name": "python",
   "nbconvert_exporter": "python",
   "pygments_lexer": "ipython3",
   "version": "3.6.2"
  }
 },
 "nbformat": 4,
 "nbformat_minor": 2
}
